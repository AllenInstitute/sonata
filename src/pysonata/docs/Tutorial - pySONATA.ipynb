{
 "cells": [
  {
   "cell_type": "markdown",
   "metadata": {},
   "source": [
    "# pySONATA\n",
    "A python based api for working with SONATA based files"
   ]
  },
  {
   "cell_type": "code",
   "execution_count": 1,
   "metadata": {},
   "outputs": [],
   "source": [
    "import glob\n",
    "import pprint\n",
    "import numpy as np\n",
    "import pandas as pd\n",
    "\n",
    "from sonata.io import File"
   ]
  },
  {
   "cell_type": "markdown",
   "metadata": {},
   "source": [
    "## Reading SONATA Network files"
   ]
  },
  {
   "cell_type": "code",
   "execution_count": 2,
   "metadata": {},
   "outputs": [
    {
     "name": "stdout",
     "output_type": "stream",
     "text": [
      "Contains nodes: True\n",
      "Contains edges: False\n"
     ]
    }
   ],
   "source": [
    "# Use one network file\n",
    "net = File(data_files='../../../examples/300_cells/network/internal_nodes.h5', \n",
    "           data_type_files='../../../examples/300_cells/network/internal_node_types.csv')\n",
    "print('Contains nodes: {}'.format(net.has_nodes))\n",
    "print('Contains edges: {}'.format(net.has_edges))"
   ]
  },
  {
   "cell_type": "code",
   "execution_count": 3,
   "metadata": {},
   "outputs": [
    {
     "name": "stdout",
     "output_type": "stream",
     "text": [
      "Contains nodes: True\n",
      "Contains edges: True\n"
     ]
    }
   ],
   "source": [
    "# Read in mulitple files at a time\n",
    "net = File(data_files=['../../../examples/300_cells/network/internal_nodes.h5', \n",
    "                       '../../../examples/300_cells/network/internal_internal_edges.h5'], \n",
    "           data_type_files=['../../../examples/300_cells/network/internal_node_types.csv',\n",
    "                            '../../../examples/300_cells/network/internal_internal_edge_types.csv'])\n",
    "print('Contains nodes: {}'.format(net.has_nodes))\n",
    "print('Contains edges: {}'.format(net.has_edges))"
   ]
  },
  {
   "cell_type": "markdown",
   "metadata": {},
   "source": [
    "## Working with nodes \n",
    "SONATA files are divided into nodes (eg cells) and edges (eg synapses, junctions). The Nodes themselves are further divides into different **populations**. Different populations can be assumed to have been indepently created, with their own independent set of node ids, models, etc.\n"
   ]
  },
  {
   "cell_type": "code",
   "execution_count": 4,
   "metadata": {},
   "outputs": [
    {
     "name": "stdout",
     "output_type": "stream",
     "text": [
      "Node populations in File: [u'internal']\n"
     ]
    }
   ],
   "source": [
    "file_nodes = net.nodes  # Get the /nodes/ root \n",
    "\n",
    "# In this example there is only one node population that we've called \"internal\"\n",
    "print('Node populations in File: {}'.format(net.nodes.population_names))"
   ]
  },
  {
   "cell_type": "code",
   "execution_count": 5,
   "metadata": {},
   "outputs": [
    {
     "name": "stdout",
     "output_type": "stream",
     "text": [
      "Population \"internal\" contains 300 nodes\n",
      "node ids: [  0   1   2   3   4   5   6   7   8   9  10  11  12  13  14  15  16  17\n",
      "  18  19  20  21  22  23  24  25  26  27  28  29  30  31  32  33  34  35\n",
      "  36  37  38  39  40  41  42  43  44  45  46  47  48  49  50  51  52  53\n",
      "  54  55  56  57  58  59  60  61  62  63  64  65  66  67  68  69  70  71\n",
      "  72  73  74  75  76  77  78  79  80  81  82  83  84  85  86  87  88  89\n",
      "  90  91  92  93  94  95  96  97  98  99 100 101 102 103 104 105 106 107\n",
      " 108 109 110 111 112 113 114 115 116 117 118 119 120 121 122 123 124 125\n",
      " 126 127 128 129 130 131 132 133 134 135 136 137 138 139 140 141 142 143\n",
      " 144 145 146 147 148 149 150 151 152 153 154 155 156 157 158 159 160 161\n",
      " 162 163 164 165 166 167 168 169 170 171 172 173 174 175 176 177 178 179\n",
      " 180 181 182 183 184 185 186 187 188 189 190 191 192 193 194 195 196 197\n",
      " 198 199 200 201 202 203 204 205 206 207 208 209 210 211 212 213 214 215\n",
      " 216 217 218 219 220 221 222 223 224 225 226 227 228 229 230 231 232 233\n",
      " 234 235 236 237 238 239 240 241 242 243 244 245 246 247 248 249 250 251\n",
      " 252 253 254 255 256 257 258 259 260 261 262 263 264 265 266 267 268 269\n",
      " 270 271 272 273 274 275 276 277 278 279 280 281 282 283 284 285 286 287\n",
      " 288 289 290 291 292 293 294 295 296 297 298 299]\n"
     ]
    }
   ],
   "source": [
    "# Get Node populations with the name internal, This population contains 300 individual nodes \n",
    "internal_nodes = net.nodes['internal']  \n",
    "print('Population \"internal\" contains {} nodes'.format(len(internal_nodes)))\n",
    "#pprint.pprint(internal_nodes.node_ids)\n",
    "print ('node ids: {}'.format(internal_nodes.node_ids))"
   ]
  },
  {
   "cell_type": "markdown",
   "metadata": {},
   "source": [
    "Use to *to_dataframe* method to quickly analyze the node data"
   ]
  },
  {
   "cell_type": "code",
   "execution_count": 6,
   "metadata": {},
   "outputs": [
    {
     "data": {
      "text/html": [
       "<div>\n",
       "<style scoped>\n",
       "    .dataframe tbody tr th:only-of-type {\n",
       "        vertical-align: middle;\n",
       "    }\n",
       "\n",
       "    .dataframe tbody tr th {\n",
       "        vertical-align: top;\n",
       "    }\n",
       "\n",
       "    .dataframe thead th {\n",
       "        text-align: right;\n",
       "    }\n",
       "</style>\n",
       "<table border=\"1\" class=\"dataframe\">\n",
       "  <thead>\n",
       "    <tr style=\"text-align: right;\">\n",
       "      <th></th>\n",
       "      <th>node_type_id</th>\n",
       "      <th>node_id</th>\n",
       "      <th>rotation_angle_yaxis</th>\n",
       "      <th>x</th>\n",
       "      <th>y</th>\n",
       "      <th>z</th>\n",
       "      <th>ei</th>\n",
       "      <th>model_processing</th>\n",
       "      <th>morphology</th>\n",
       "      <th>model_template</th>\n",
       "      <th>model_type</th>\n",
       "      <th>model_name</th>\n",
       "    </tr>\n",
       "  </thead>\n",
       "  <tbody>\n",
       "    <tr>\n",
       "      <th>0</th>\n",
       "      <td>100</td>\n",
       "      <td>0</td>\n",
       "      <td>0.986542</td>\n",
       "      <td>22.343432</td>\n",
       "      <td>-79.627003</td>\n",
       "      <td>-1.534002</td>\n",
       "      <td>e</td>\n",
       "      <td>aibs_perisomatic</td>\n",
       "      <td>Scnn1a_473845048_m</td>\n",
       "      <td>nml:Cell_472363762.cell.nml</td>\n",
       "      <td>biophysical</td>\n",
       "      <td>Scnn1a</td>\n",
       "    </tr>\n",
       "    <tr>\n",
       "      <th>1</th>\n",
       "      <td>100</td>\n",
       "      <td>1</td>\n",
       "      <td>2.221220</td>\n",
       "      <td>-2.594341</td>\n",
       "      <td>-43.376118</td>\n",
       "      <td>24.234707</td>\n",
       "      <td>e</td>\n",
       "      <td>aibs_perisomatic</td>\n",
       "      <td>Scnn1a_473845048_m</td>\n",
       "      <td>nml:Cell_472363762.cell.nml</td>\n",
       "      <td>biophysical</td>\n",
       "      <td>Scnn1a</td>\n",
       "    </tr>\n",
       "    <tr>\n",
       "      <th>2</th>\n",
       "      <td>100</td>\n",
       "      <td>2</td>\n",
       "      <td>3.906942</td>\n",
       "      <td>24.310012</td>\n",
       "      <td>48.652922</td>\n",
       "      <td>11.593498</td>\n",
       "      <td>e</td>\n",
       "      <td>aibs_perisomatic</td>\n",
       "      <td>Scnn1a_473845048_m</td>\n",
       "      <td>nml:Cell_472363762.cell.nml</td>\n",
       "      <td>biophysical</td>\n",
       "      <td>Scnn1a</td>\n",
       "    </tr>\n",
       "    <tr>\n",
       "      <th>3</th>\n",
       "      <td>100</td>\n",
       "      <td>3</td>\n",
       "      <td>0.269737</td>\n",
       "      <td>7.004998</td>\n",
       "      <td>-85.896637</td>\n",
       "      <td>-4.738925</td>\n",
       "      <td>e</td>\n",
       "      <td>aibs_perisomatic</td>\n",
       "      <td>Scnn1a_473845048_m</td>\n",
       "      <td>nml:Cell_472363762.cell.nml</td>\n",
       "      <td>biophysical</td>\n",
       "      <td>Scnn1a</td>\n",
       "    </tr>\n",
       "    <tr>\n",
       "      <th>4</th>\n",
       "      <td>100</td>\n",
       "      <td>4</td>\n",
       "      <td>2.950101</td>\n",
       "      <td>26.716275</td>\n",
       "      <td>15.561911</td>\n",
       "      <td>-23.239033</td>\n",
       "      <td>e</td>\n",
       "      <td>aibs_perisomatic</td>\n",
       "      <td>Scnn1a_473845048_m</td>\n",
       "      <td>nml:Cell_472363762.cell.nml</td>\n",
       "      <td>biophysical</td>\n",
       "      <td>Scnn1a</td>\n",
       "    </tr>\n",
       "  </tbody>\n",
       "</table>\n",
       "</div>"
      ],
      "text/plain": [
       "   node_type_id  node_id  rotation_angle_yaxis          x          y  \\\n",
       "0           100        0              0.986542  22.343432 -79.627003   \n",
       "1           100        1              2.221220  -2.594341 -43.376118   \n",
       "2           100        2              3.906942  24.310012  48.652922   \n",
       "3           100        3              0.269737   7.004998 -85.896637   \n",
       "4           100        4              2.950101  26.716275  15.561911   \n",
       "\n",
       "           z ei  model_processing          morphology  \\\n",
       "0  -1.534002  e  aibs_perisomatic  Scnn1a_473845048_m   \n",
       "1  24.234707  e  aibs_perisomatic  Scnn1a_473845048_m   \n",
       "2  11.593498  e  aibs_perisomatic  Scnn1a_473845048_m   \n",
       "3  -4.738925  e  aibs_perisomatic  Scnn1a_473845048_m   \n",
       "4 -23.239033  e  aibs_perisomatic  Scnn1a_473845048_m   \n",
       "\n",
       "                model_template   model_type model_name  \n",
       "0  nml:Cell_472363762.cell.nml  biophysical     Scnn1a  \n",
       "1  nml:Cell_472363762.cell.nml  biophysical     Scnn1a  \n",
       "2  nml:Cell_472363762.cell.nml  biophysical     Scnn1a  \n",
       "3  nml:Cell_472363762.cell.nml  biophysical     Scnn1a  \n",
       "4  nml:Cell_472363762.cell.nml  biophysical     Scnn1a  "
      ]
     },
     "execution_count": 6,
     "metadata": {},
     "output_type": "execute_result"
    }
   ],
   "source": [
    "internal_nodes.to_dataframe().head()"
   ]
  },
  {
   "cell_type": "markdown",
   "metadata": {},
   "source": [
    "You can use the *get_node_id* method to fetch information about a single node. Each node will be returned as a *sonata.Node* object with attributes and properties that can be accessed like a dictionary"
   ]
  },
  {
   "cell_type": "code",
   "execution_count": 7,
   "metadata": {},
   "outputs": [
    {
     "name": "stdout",
     "output_type": "stream",
     "text": [
      "class: <class 'sonata.io.node.Node'>\n",
      "node_id: 1\n",
      "node props: {'node_type_id': 100, 'ei': 'e', y: -43.37611757606959, 'model_processing': 'aibs_perisomatic', 'model_type': 'biophysical', 'node_id': 1, 'model_template': 'nml:Cell_472363762.cell.nml', x: -2.5943407870091946, 'morphology': 'Scnn1a_473845048_m', rotation_angle_yaxis: 2.2212202206885547, z: 24.23470695483876, 'model_name': 'Scnn1a'}\n",
      "(-2.5943407870091946, -43.37611757606959, 24.23470695483876)\n"
     ]
    }
   ],
   "source": [
    "node1 = internal_nodes.get_node_id(1) # Get node in population with node_id = 1\n",
    "print('class: {}'.format(type(node1)))\n",
    "print('node_id: {}'.format(node1.node_id))\n",
    "print('node props: {}'.format(node1))\n",
    "\n",
    "coords = (node1['x'], node1['y'], node1['z'])\n",
    "print(coords)"
   ]
  },
  {
   "cell_type": "markdown",
   "metadata": {},
   "source": [
    "You can also use the *get_row* method to fetch the i'th row in the table. But it's important to note that node_id's do not have to be ordered or contigous - so the i'th row may not always contain node with node_id i."
   ]
  },
  {
   "cell_type": "code",
   "execution_count": 8,
   "metadata": {},
   "outputs": [
    {
     "name": "stdout",
     "output_type": "stream",
     "text": [
      "True\n"
     ]
    }
   ],
   "source": [
    "node_row1 = internal_nodes.get_row(1)\n",
    "print(node1.node_id == node_row1.node_id)"
   ]
  },
  {
   "cell_type": "markdown",
   "metadata": {},
   "source": [
    "### Iterating through Nodes\n",
    "To iterate through all nodes in the population:"
   ]
  },
  {
   "cell_type": "code",
   "execution_count": 9,
   "metadata": {},
   "outputs": [
    {
     "name": "stdout",
     "output_type": "stream",
     "text": [
      "Node #127 has maximum distance 119.942558428um from origin\n"
     ]
    }
   ],
   "source": [
    "import numpy as np\n",
    "max_dist = 0.0\n",
    "max_dist_node = None\n",
    "for node in internal_nodes:\n",
    "    assert(0 <= node.node_id < 300)\n",
    "    ndist = np.sqrt(node['x']**2 + node['y']**2 + node['z']**2)\n",
    "    if ndist > max_dist:\n",
    "        max_dist = ndist\n",
    "        max_dist_node = node\n",
    "\n",
    "print('Node #{} has maximum distance {}um from origin'.format(max_dist_node.node_id, max_dist))    \n"
   ]
  },
  {
   "cell_type": "markdown",
   "metadata": {},
   "source": [
    "Using the get_rows method we can pass in a list or range of the rows we want to analyze"
   ]
  },
  {
   "cell_type": "code",
   "execution_count": 10,
   "metadata": {},
   "outputs": [
    {
     "name": "stdout",
     "output_type": "stream",
     "text": [
      "processed 150 nodes\n",
      "processed 3 nodes\n"
     ]
    }
   ],
   "source": [
    "n_count = 0\n",
    "for node in internal_nodes.get_rows(range(0, len(internal_nodes), 2)):\n",
    "    n_count += 1\n",
    "    assert(node.node_id % 2 == 0)\n",
    "print('processed {} nodes'.format(n_count))\n",
    "\n",
    "n_count = 0\n",
    "for node in internal_nodes.get_rows([0, 100, 200]):\n",
    "    assert(node.node_id % 100 == 0)\n",
    "    n_count += 1\n",
    "print('processed {} nodes'.format(n_count))"
   ]
  },
  {
   "cell_type": "markdown",
   "metadata": {},
   "source": [
    "### Filtering by attributes\n",
    "Use the filter method to fetch nodes with certain properties"
   ]
  },
  {
   "cell_type": "code",
   "execution_count": 11,
   "metadata": {},
   "outputs": [
    {
     "name": "stdout",
     "output_type": "stream",
     "text": [
      "Found 80 nodes that use Nr5a1_471087815_m morphology\n"
     ]
    }
   ],
   "source": [
    "n_count = 0\n",
    "for node in internal_nodes.filter(morphology='Nr5a1_471087815_m'):\n",
    "    assert(node['morphology'] == 'Nr5a1_471087815_m')\n",
    "    n_count += 1\n",
    "    \n",
    "print('Found {} nodes that use Nr5a1_471087815_m morphology'.format(n_count))"
   ]
  },
  {
   "cell_type": "markdown",
   "metadata": {},
   "source": [
    "### Vectorized node attributes\n",
    "\n",
    "SONATA stores all data into one or more **node groups**. Every node belongs to one node group, with every node group containing the same attributes. Thus nodes with different models (and therefore different attributes) will be split into different groups. To show the available node_groups:"
   ]
  },
  {
   "cell_type": "code",
   "execution_count": 12,
   "metadata": {},
   "outputs": [
    {
     "name": "stdout",
     "output_type": "stream",
     "text": [
      "Model groups in internal_nodes population: [0]\n",
      "Group 0 nodes contains the following attributes \n",
      "\t [rotation_angle_yaxis, x, y, z, ei, model_processing, morphology, model_template, model_type, model_name]\n"
     ]
    }
   ],
   "source": [
    "# In this example there is only one node-group, group #0\n",
    "print('Model groups in internal_nodes population: {}'.format(internal_nodes.group_ids))\n",
    "\n",
    "grp0 = internal_nodes.get_group(internal_nodes.group_ids[0])\n",
    "print('Group {} nodes contains the following attributes \\n\\t {}'.format(grp0.group_id, grp0.all_columns))\n"
   ]
  },
  {
   "cell_type": "markdown",
   "metadata": {},
   "source": [
    "Instead of looping through and finding attributes of every individual node, we can use the *get_values* method to get all attributes at once as a list or numpy array. This allows us to use vectorization to speed up our analysis:"
   ]
  },
  {
   "cell_type": "code",
   "execution_count": 13,
   "metadata": {},
   "outputs": [
    {
     "name": "stdout",
     "output_type": "stream",
     "text": [
      "Node #127 has maximum distance 119.942558428um from origin\n"
     ]
    }
   ],
   "source": [
    "distances = np.sqrt(grp0.get_values('x')**2 + grp0.get_values('y')**2 + grp0.get_values('z')**2)\n",
    "max_indx = np.argmax(distances)\n",
    "print('Node #{} has maximum distance {}um from origin'.format(grp0.node_ids[max_indx], distances[max_indx])) "
   ]
  },
  {
   "cell_type": "markdown",
   "metadata": {},
   "source": [
    "## Working with edges\n",
    "\n",
    "Edges share a similar data structure as our nodes. Within a file there may be zero, one, or more edge populations each identified by a unique user defined population name."
   ]
  },
  {
   "cell_type": "code",
   "execution_count": 14,
   "metadata": {},
   "outputs": [
    {
     "name": "stdout",
     "output_type": "stream",
     "text": [
      "Edge populations in file: [u'internal_to_internal']\n"
     ]
    }
   ],
   "source": [
    "file_edges = net.edges\n",
    "print('Edge populations in file: {}'.format(file_edges.population_names))\n",
    "recurrent_edges = file_edges['internal_to_internal']"
   ]
  },
  {
   "cell_type": "markdown",
   "metadata": {},
   "source": [
    "Every edge population contains directed connections between the nodes of one node-population to another. The attributes *target_population* and *source_population* will be important to determine what set of nodes will be used for pre-synaptic/post-synaptic connections:"
   ]
  },
  {
   "cell_type": "code",
   "execution_count": 15,
   "metadata": {},
   "outputs": [
    {
     "name": "stdout",
     "output_type": "stream",
     "text": [
      "Edge population internal_to_internal contains 88316 connections from \"internal\" --> \"internal\"\n"
     ]
    }
   ],
   "source": [
    "# In this case both the source and target node population are the same indicating these are recurrent connections\n",
    "print('Edge population {} contains {} connections from \"{}\" --> \"{}\"'.format(recurrent_edges.name, \n",
    "                                                                         len(recurrent_edges),\n",
    "                                                                         recurrent_edges.source_population, \n",
    "                                                                         recurrent_edges.target_population))"
   ]
  },
  {
   "cell_type": "markdown",
   "metadata": {},
   "source": [
    "### Iterating over edges\n",
    "\n",
    "When we iterate over all the edges in the edge population we are returned Edge objection. Every edge must contain a source (pre-synaptic) and target (post-synaptic) node-id, but also contain edge attributes which we fetch like a dictionary:"
   ]
  },
  {
   "cell_type": "code",
   "execution_count": 16,
   "metadata": {},
   "outputs": [
    {
     "name": "stdout",
     "output_type": "stream",
     "text": [
      "1 --> 0\n",
      "{pos_z: 276.13055401859, pos_x: 60.45881079218742, pos_y: 3.356650750251845, 'dynamics_params': 'AMPA_ExcToExc.json', 'edge_type_id': 100, 'target_query': \"ei=='e'\", 'delay': 2.0, syn_weight: 6e-05, 'model_template': 'Exp2Syn', sec_id: 28, sec_x: 0.5, dist: 98.29584776371554, 'source_query': \"ei=='e'\", type: 3}\n"
     ]
    }
   ],
   "source": [
    "for edge in recurrent_edges:\n",
    "    print('{} --> {}'.format(edge.source_node_id, edge.target_node_id))\n",
    "    print edge\n",
    "    assert(isinstance(edge['syn_weight'], float))\n",
    "    \n",
    "    break  # Iterating through all the edges can take a long time, do so at your own risk"
   ]
  },
  {
   "cell_type": "markdown",
   "metadata": {},
   "source": [
    "Often we may want to get only those edges to connection to/from a given node or set of nodes. SONATA uses special indexing, so selecting by target or source can be achieved signficantly faster than iterating through all possible edges. To find all edges with a given target (or list of targets) we use the *get_target* (*get_targets*) method. :"
   ]
  },
  {
   "cell_type": "code",
   "execution_count": 17,
   "metadata": {},
   "outputs": [
    {
     "name": "stdout",
     "output_type": "stream",
     "text": [
      "There are 182 connections onto target node #100\n"
     ]
    }
   ],
   "source": [
    "con_count = 0\n",
    "for edge in recurrent_edges.get_target(100):  # we can also use get_targets([id0, id1, ...])\n",
    "    assert(edge.target_node_id == 100)\n",
    "    con_count += 1\n",
    "    \n",
    "print('There are {} connections onto target node #{}'.format(con_count, 100))"
   ]
  },
  {
   "cell_type": "markdown",
   "metadata": {},
   "source": [
    "Or we can search for edges by source_node_id"
   ]
  },
  {
   "cell_type": "code",
   "execution_count": 18,
   "metadata": {},
   "outputs": [
    {
     "name": "stdout",
     "output_type": "stream",
     "text": [
      "The first 5 nodes have on average 190.6 outgoing connections\n"
     ]
    }
   ],
   "source": [
    "con_count = 0\n",
    "for edge in recurrent_edges.get_targets(range(5)):\n",
    "    assert(edge.target_node_id < 5)\n",
    "    con_count += 1\n",
    "    \n",
    "print('The first 5 nodes have on average {} outgoing connections'.format(con_count/5.0))"
   ]
  },
  {
   "cell_type": "markdown",
   "metadata": {},
   "source": [
    "## Filtering by attributes\n",
    "\n",
    "We can use the *filter* method to find only those edges with a given matching attribute value:"
   ]
  },
  {
   "cell_type": "code",
   "execution_count": 19,
   "metadata": {},
   "outputs": [
    {
     "name": "stdout",
     "output_type": "stream",
     "text": [
      "45610 out of 88316 edges use AMPA_ExcToExc parameters\n"
     ]
    }
   ],
   "source": [
    "# may take some time to complete\n",
    "n_ampa = sum(1 for _ in recurrent_edges.filter(dynamics_params='AMPA_ExcToExc.json'))\n",
    "print('{} out of {} edges use AMPA_ExcToExc parameters'.format(n_ampa, len(recurrent_edges)))"
   ]
  },
  {
   "cell_type": "code",
   "execution_count": null,
   "metadata": {},
   "outputs": [],
   "source": []
  }
 ],
 "metadata": {
  "kernelspec": {
   "display_name": "Python [conda env:bmtk-py27]",
   "language": "python",
   "name": "conda-env-bmtk-py27-py"
  },
  "language_info": {
   "codemirror_mode": {
    "name": "ipython",
    "version": 2
   },
   "file_extension": ".py",
   "mimetype": "text/x-python",
   "name": "python",
   "nbconvert_exporter": "python",
   "pygments_lexer": "ipython2",
   "version": "2.7.15"
  }
 },
 "nbformat": 4,
 "nbformat_minor": 2
}
